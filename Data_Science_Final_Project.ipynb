{
  "metadata": {
    "kernelspec": {
      "name": "python",
      "display_name": "Python (Pyodide)",
      "language": "python"
    },
    "language_info": {
      "codemirror_mode": {
        "name": "python",
        "version": 3
      },
      "file_extension": ".py",
      "mimetype": "text/x-python",
      "name": "python",
      "nbconvert_exporter": "python",
      "pygments_lexer": "ipython3",
      "version": "3.8"
    }
  },
  "nbformat_minor": 5,
  "nbformat": 4,
  "cells": [
    {
      "id": "9d6debd6-ebec-46db-b691-db261130f79a",
      "cell_type": "markdown",
      "source": "# Data Science Final Project\n",
      "metadata": {}
    },
    {
      "id": "3ba0917d-1b1a-46db-8f21-97acd41e2a0a",
      "cell_type": "markdown",
      "source": "## Introduction\nThis notebook contains exercises related to Data Science, including languages, libraries, tools, and basic arithmetic expressions.\n",
      "metadata": {}
    },
    {
      "id": "b7f41055-90d1-4e43-882c-1e26a3b5e2bd",
      "cell_type": "markdown",
      "source": "## Data Science Languages\n- Python\n- R\n- SQL\n- Julia\n",
      "metadata": {}
    },
    {
      "id": "c417f65a-91d8-4c15-99c0-dde05b1b718a",
      "cell_type": "markdown",
      "source": "## Data Science Libraries\n- NumPy\n- Pandas\n- Matplotlib\n- Scikit-learn\n- TensorFlow\n- Keras\n",
      "metadata": {}
    },
    {
      "id": "37996fb2-5383-4aec-b470-003c4be48414",
      "cell_type": "markdown",
      "source": "## Data Science Tools\n\n| Tool Name        | Purpose                      |\n|-----------------|----------------------------|\n| Jupyter Notebook | Interactive computing      |\n| RStudio         | Statistical computing      |\n| Apache Spark    | Big data processing       |\n| TensorFlow      | Machine learning          |\n",
      "metadata": {}
    },
    {
      "id": "ed561cb0-23e2-4ec7-a2f6-eec3c2ec26c7",
      "cell_type": "markdown",
      "source": "## Arithmetic Expression Examples\nBelow is an example of basic arithmetic expressions in Python.\n",
      "metadata": {}
    },
    {
      "id": "98049b88-0714-419e-86f5-dea38a690fbd",
      "cell_type": "code",
      "source": "# Multiply and add numbers\nresult = (20 + 5) * 4\nresult\n",
      "metadata": {
        "trusted": true
      },
      "outputs": [
        {
          "execution_count": 3,
          "output_type": "execute_result",
          "data": {
            "text/plain": "100"
          },
          "metadata": {}
        }
      ],
      "execution_count": 3
    },
    {
      "id": "8893f8a3-b548-40f8-9312-64a7279b9a46",
      "cell_type": "code",
      "source": "# Convert minutes to hours\nminutes = 200\nhours = minutes / 60\nhours\n",
      "metadata": {
        "trusted": true
      },
      "outputs": [
        {
          "execution_count": 4,
          "output_type": "execute_result",
          "data": {
            "text/plain": "3.3333333333333335"
          },
          "metadata": {}
        }
      ],
      "execution_count": 4
    },
    {
      "id": "dad68208-1a8f-443c-bcd9-fe7b8642800b",
      "cell_type": "markdown",
      "source": "## Objectives\n- Learn about Data Science languages\n- Understand key libraries and tools\n- Perform basic arithmetic operations in Python\n",
      "metadata": {}
    },
    {
      "id": "c6035697-c53d-4abc-a269-721ae7207694",
      "cell_type": "markdown",
      "source": "## Author\n**Bao Khang**\n",
      "metadata": {}
    },
    {
      "id": "0a2c2d51-7cd0-4fe4-937b-90fcbacdd9e6",
      "cell_type": "code",
      "source": "",
      "metadata": {
        "trusted": true
      },
      "outputs": [],
      "execution_count": null
    }
  ]
}